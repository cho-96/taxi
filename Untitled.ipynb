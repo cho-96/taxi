{
 "cells": [
  {
   "cell_type": "code",
   "execution_count": 10,
   "metadata": {},
   "outputs": [],
   "source": [
    "import numpy as np\n",
    "import pandas as pd\n",
    "import matplotlib.pyplot as plt"
   ]
  },
  {
   "cell_type": "code",
   "execution_count": 12,
   "metadata": {},
   "outputs": [],
   "source": [
    "tehran = pd.read_csv('tehran.csv')"
   ]
  },
  {
   "cell_type": "code",
   "execution_count": 13,
   "metadata": {},
   "outputs": [
    {
     "data": {
      "text/html": [
       "<div>\n",
       "<style scoped>\n",
       "    .dataframe tbody tr th:only-of-type {\n",
       "        vertical-align: middle;\n",
       "    }\n",
       "\n",
       "    .dataframe tbody tr th {\n",
       "        vertical-align: top;\n",
       "    }\n",
       "\n",
       "    .dataframe thead th {\n",
       "        text-align: right;\n",
       "    }\n",
       "</style>\n",
       "<table border=\"1\" class=\"dataframe\">\n",
       "  <thead>\n",
       "    <tr style=\"text-align: right;\">\n",
       "      <th></th>\n",
       "      <th>SERVICE_MINILINK</th>\n",
       "      <th>1</th>\n",
       "      <th>2</th>\n",
       "      <th>3</th>\n",
       "      <th>4</th>\n",
       "      <th>5</th>\n",
       "      <th>6</th>\n",
       "      <th>7</th>\n",
       "      <th>8</th>\n",
       "      <th>9</th>\n",
       "      <th>...</th>\n",
       "      <th>8631</th>\n",
       "      <th>8632</th>\n",
       "      <th>8633</th>\n",
       "      <th>8634</th>\n",
       "      <th>8635</th>\n",
       "      <th>8636</th>\n",
       "      <th>8637</th>\n",
       "      <th>8638</th>\n",
       "      <th>8639</th>\n",
       "      <th>8640</th>\n",
       "    </tr>\n",
       "  </thead>\n",
       "  <tbody>\n",
       "    <tr>\n",
       "      <th>0</th>\n",
       "      <td>1220023400_001</td>\n",
       "      <td>0.0</td>\n",
       "      <td>1.0</td>\n",
       "      <td>0.0</td>\n",
       "      <td>0.0</td>\n",
       "      <td>0.0</td>\n",
       "      <td>0.0</td>\n",
       "      <td>0.0</td>\n",
       "      <td>7.0</td>\n",
       "      <td>5.0</td>\n",
       "      <td>...</td>\n",
       "      <td>2.5</td>\n",
       "      <td>15.0</td>\n",
       "      <td>0.0</td>\n",
       "      <td>27.0</td>\n",
       "      <td>29.5</td>\n",
       "      <td>0.0</td>\n",
       "      <td>21.0</td>\n",
       "      <td>18.0</td>\n",
       "      <td>26.0</td>\n",
       "      <td>24.5</td>\n",
       "    </tr>\n",
       "    <tr>\n",
       "      <th>1</th>\n",
       "      <td>1220023400_002</td>\n",
       "      <td>14.0</td>\n",
       "      <td>1.0</td>\n",
       "      <td>0.0</td>\n",
       "      <td>0.0</td>\n",
       "      <td>0.5</td>\n",
       "      <td>0.0</td>\n",
       "      <td>0.0</td>\n",
       "      <td>0.0</td>\n",
       "      <td>19.0</td>\n",
       "      <td>...</td>\n",
       "      <td>12.5</td>\n",
       "      <td>20.0</td>\n",
       "      <td>15.0</td>\n",
       "      <td>0.0</td>\n",
       "      <td>11.5</td>\n",
       "      <td>8.0</td>\n",
       "      <td>33.0</td>\n",
       "      <td>24.0</td>\n",
       "      <td>30.0</td>\n",
       "      <td>22.0</td>\n",
       "    </tr>\n",
       "    <tr>\n",
       "      <th>2</th>\n",
       "      <td>1220023400_003</td>\n",
       "      <td>23.5</td>\n",
       "      <td>1.0</td>\n",
       "      <td>0.5</td>\n",
       "      <td>15.5</td>\n",
       "      <td>0.0</td>\n",
       "      <td>0.0</td>\n",
       "      <td>1.0</td>\n",
       "      <td>0.0</td>\n",
       "      <td>0.0</td>\n",
       "      <td>...</td>\n",
       "      <td>29.0</td>\n",
       "      <td>27.0</td>\n",
       "      <td>25.0</td>\n",
       "      <td>30.0</td>\n",
       "      <td>26.5</td>\n",
       "      <td>22.0</td>\n",
       "      <td>23.0</td>\n",
       "      <td>37.0</td>\n",
       "      <td>20.0</td>\n",
       "      <td>25.5</td>\n",
       "    </tr>\n",
       "    <tr>\n",
       "      <th>3</th>\n",
       "      <td>1220023400_004</td>\n",
       "      <td>0.0</td>\n",
       "      <td>3.5</td>\n",
       "      <td>7.5</td>\n",
       "      <td>18.0</td>\n",
       "      <td>0.0</td>\n",
       "      <td>9.0</td>\n",
       "      <td>1.0</td>\n",
       "      <td>2.0</td>\n",
       "      <td>16.0</td>\n",
       "      <td>...</td>\n",
       "      <td>28.0</td>\n",
       "      <td>22.0</td>\n",
       "      <td>25.0</td>\n",
       "      <td>25.5</td>\n",
       "      <td>42.0</td>\n",
       "      <td>3.0</td>\n",
       "      <td>19.5</td>\n",
       "      <td>26.5</td>\n",
       "      <td>26.0</td>\n",
       "      <td>10.0</td>\n",
       "    </tr>\n",
       "    <tr>\n",
       "      <th>4</th>\n",
       "      <td>1220023400_005</td>\n",
       "      <td>5.0</td>\n",
       "      <td>2.0</td>\n",
       "      <td>1.0</td>\n",
       "      <td>27.0</td>\n",
       "      <td>15.0</td>\n",
       "      <td>8.0</td>\n",
       "      <td>22.0</td>\n",
       "      <td>8.0</td>\n",
       "      <td>32.5</td>\n",
       "      <td>...</td>\n",
       "      <td>19.0</td>\n",
       "      <td>6.0</td>\n",
       "      <td>30.0</td>\n",
       "      <td>16.0</td>\n",
       "      <td>46.0</td>\n",
       "      <td>34.0</td>\n",
       "      <td>24.0</td>\n",
       "      <td>34.0</td>\n",
       "      <td>13.5</td>\n",
       "      <td>24.5</td>\n",
       "    </tr>\n",
       "  </tbody>\n",
       "</table>\n",
       "<p>5 rows × 8641 columns</p>\n",
       "</div>"
      ],
      "text/plain": [
       "  SERVICE_MINILINK     1    2    3     4     5    6     7    8     9  ...  \\\n",
       "0   1220023400_001   0.0  1.0  0.0   0.0   0.0  0.0   0.0  7.0   5.0  ...   \n",
       "1   1220023400_002  14.0  1.0  0.0   0.0   0.5  0.0   0.0  0.0  19.0  ...   \n",
       "2   1220023400_003  23.5  1.0  0.5  15.5   0.0  0.0   1.0  0.0   0.0  ...   \n",
       "3   1220023400_004   0.0  3.5  7.5  18.0   0.0  9.0   1.0  2.0  16.0  ...   \n",
       "4   1220023400_005   5.0  2.0  1.0  27.0  15.0  8.0  22.0  8.0  32.5  ...   \n",
       "\n",
       "   8631  8632  8633  8634  8635  8636  8637  8638  8639  8640  \n",
       "0   2.5  15.0   0.0  27.0  29.5   0.0  21.0  18.0  26.0  24.5  \n",
       "1  12.5  20.0  15.0   0.0  11.5   8.0  33.0  24.0  30.0  22.0  \n",
       "2  29.0  27.0  25.0  30.0  26.5  22.0  23.0  37.0  20.0  25.5  \n",
       "3  28.0  22.0  25.0  25.5  42.0   3.0  19.5  26.5  26.0  10.0  \n",
       "4  19.0   6.0  30.0  16.0  46.0  34.0  24.0  34.0  13.5  24.5  \n",
       "\n",
       "[5 rows x 8641 columns]"
      ]
     },
     "execution_count": 13,
     "metadata": {},
     "output_type": "execute_result"
    }
   ],
   "source": [
    "tehran.head()"
   ]
  },
  {
   "cell_type": "code",
   "execution_count": 14,
   "metadata": {},
   "outputs": [],
   "source": [
    "tehran = np.array(tehran)"
   ]
  },
  {
   "cell_type": "code",
   "execution_count": 17,
   "metadata": {},
   "outputs": [],
   "source": [
    "train_size = int(tehran.shape[1]*0.8)"
   ]
  },
  {
   "cell_type": "code",
   "execution_count": 18,
   "metadata": {},
   "outputs": [
    {
     "data": {
      "text/plain": [
       "6912"
      ]
     },
     "execution_count": 18,
     "metadata": {},
     "output_type": "execute_result"
    }
   ],
   "source": [
    "train_size"
   ]
  },
  {
   "cell_type": "code",
   "execution_count": 26,
   "metadata": {},
   "outputs": [],
   "source": [
    "train, test = tehran[:,1:train_size], tehran[:,train_size:]"
   ]
  },
  {
   "cell_type": "code",
   "execution_count": 20,
   "metadata": {},
   "outputs": [
    {
     "data": {
      "text/plain": [
       "(744, 6912)"
      ]
     },
     "execution_count": 20,
     "metadata": {},
     "output_type": "execute_result"
    }
   ],
   "source": [
    "train.shape"
   ]
  },
  {
   "cell_type": "code",
   "execution_count": 21,
   "metadata": {},
   "outputs": [
    {
     "data": {
      "text/plain": [
       "(744, 1729)"
      ]
     },
     "execution_count": 21,
     "metadata": {},
     "output_type": "execute_result"
    }
   ],
   "source": [
    "test.shape"
   ]
  },
  {
   "cell_type": "code",
   "execution_count": 43,
   "metadata": {},
   "outputs": [],
   "source": [
    "def devide(a, x, y):\n",
    "    p = []\n",
    "    q = []\n",
    "    for n in range(0,a.shape[1]-(x+y)):\n",
    "        p.append(a[:,n:n+x])\n",
    "        q.append(a[:,n+x:n+x+y])\n",
    "    return p, q"
   ]
  },
  {
   "cell_type": "code",
   "execution_count": 44,
   "metadata": {},
   "outputs": [],
   "source": [
    "train_x, train_y = devide(train, 3, 1)"
   ]
  },
  {
   "cell_type": "code",
   "execution_count": 45,
   "metadata": {},
   "outputs": [],
   "source": [
    "train_x = np.stack(train_x)"
   ]
  },
  {
   "cell_type": "code",
   "execution_count": 46,
   "metadata": {},
   "outputs": [
    {
     "data": {
      "text/plain": [
       "(6907, 744, 3)"
      ]
     },
     "execution_count": 46,
     "metadata": {},
     "output_type": "execute_result"
    }
   ],
   "source": [
    "train_x.shape"
   ]
  },
  {
   "cell_type": "code",
   "execution_count": 47,
   "metadata": {},
   "outputs": [],
   "source": [
    "train_y = np.stack(train_y)"
   ]
  },
  {
   "cell_type": "code",
   "execution_count": 48,
   "metadata": {},
   "outputs": [
    {
     "data": {
      "text/plain": [
       "(6907, 744, 1)"
      ]
     },
     "execution_count": 48,
     "metadata": {},
     "output_type": "execute_result"
    }
   ],
   "source": [
    "train_y.shape"
   ]
  },
  {
   "cell_type": "code",
   "execution_count": 49,
   "metadata": {},
   "outputs": [],
   "source": [
    "import tensorflow as tf\n",
    "from tensorflow import keras\n",
    "from tensorflow.keras import layers"
   ]
  },
  {
   "cell_type": "code",
   "execution_count": 56,
   "metadata": {},
   "outputs": [
    {
     "name": "stdout",
     "output_type": "stream",
     "text": [
      "Model: \"model_3\"\n",
      "_________________________________________________________________\n",
      "Layer (type)                 Output Shape              Param #   \n",
      "=================================================================\n",
      "input (InputLayer)           [(None, 744, 3, 1)]       0         \n",
      "_________________________________________________________________\n",
      "conv2d_5 (Conv2D)            (None, 743, 2, 64)        320       \n",
      "_________________________________________________________________\n",
      "max_pooling2d_3 (MaxPooling2 (None, 371, 1, 64)        0         \n",
      "_________________________________________________________________\n",
      "flatten_2 (Flatten)          (None, 23744)             0         \n",
      "_________________________________________________________________\n",
      "dense (Dense)                (None, 744)               17666280  \n",
      "=================================================================\n",
      "Total params: 17,666,600\n",
      "Trainable params: 17,666,600\n",
      "Non-trainable params: 0\n",
      "_________________________________________________________________\n"
     ]
    }
   ],
   "source": [
    "Input = keras.Input(shape=(744,3,1),name='input')\n",
    "x = layers.Conv2D(filters=64, kernel_size=2,activation='relu')(Input)\n",
    "x = layers.MaxPool2D(pool_size=2)(x)\n",
    "x = layers.Flatten()(x)\n",
    "x = layers.Dense(744)(x)\n",
    "CNN = keras.Model(inputs=Input,outputs=x)\n",
    "CNN.summary()"
   ]
  },
  {
   "cell_type": "code",
   "execution_count": 57,
   "metadata": {},
   "outputs": [],
   "source": [
    "train_y = np.squeeze(train_y, axis=2)"
   ]
  },
  {
   "cell_type": "code",
   "execution_count": 63,
   "metadata": {},
   "outputs": [],
   "source": [
    "test_x, test_y = devide(test, 3, 1)\n",
    "test_x = np.stack(test_x)\n",
    "test_y = np.stack(test_y)\n",
    "test_y = np.squeeze(test_y, axis=2)"
   ]
  },
  {
   "cell_type": "code",
   "execution_count": 60,
   "metadata": {},
   "outputs": [],
   "source": [
    "CNN.compile(loss='mae',optimizer='adam')"
   ]
  },
  {
   "cell_type": "code",
   "execution_count": 95,
   "metadata": {
    "collapsed": true
   },
   "outputs": [
    {
     "name": "stdout",
     "output_type": "stream",
     "text": [
      "Train on 6907 samples, validate on 1725 samples\n",
      "Epoch 1/10\n",
      "6907/6907 [==============================] - 35s 5ms/sample - loss: 4.8096 - val_loss: 13.9908\n",
      "Epoch 2/10\n",
      "6907/6907 [==============================] - 33s 5ms/sample - loss: 4.7498 - val_loss: 14.0452\n",
      "Epoch 3/10\n",
      "6907/6907 [==============================] - 35s 5ms/sample - loss: 4.7145 - val_loss: 14.0888\n",
      "Epoch 4/10\n",
      "6907/6907 [==============================] - 33s 5ms/sample - loss: 4.6574 - val_loss: 14.1562\n",
      "Epoch 5/10\n",
      "6907/6907 [==============================] - 32s 5ms/sample - loss: 4.6286 - val_loss: 14.2206\n",
      "Epoch 6/10\n",
      "6907/6907 [==============================] - 33s 5ms/sample - loss: 4.5657 - val_loss: 14.2526\n",
      "Epoch 7/10\n",
      "6907/6907 [==============================] - 36s 5ms/sample - loss: 4.5162 - val_loss: 14.2901\n",
      "Epoch 8/10\n",
      "6907/6907 [==============================] - 37s 5ms/sample - loss: 4.4649 - val_loss: 14.3536\n",
      "Epoch 9/10\n",
      "6907/6907 [==============================] - 34s 5ms/sample - loss: 4.4143 - val_loss: 14.4152\n",
      "Epoch 10/10\n",
      "6907/6907 [==============================] - 35s 5ms/sample - loss: 4.3775 - val_loss: 14.4498\n"
     ]
    }
   ],
   "source": [
    "history = CNN.fit({'input': train_x},{'dense':train_y},\n",
    "          epochs=10,\n",
    "          batch_size=50,\n",
    "          validation_data=({'input': test_x}, {'dense':test_y})\n",
    "          )"
   ]
  },
  {
   "cell_type": "code",
   "execution_count": 69,
   "metadata": {},
   "outputs": [],
   "source": [
    "train_x = np.expand_dims(train_x, axis=3)\n",
    "test_x = np.expand_dims(test_x, axis=3)"
   ]
  },
  {
   "cell_type": "code",
   "execution_count": 76,
   "metadata": {},
   "outputs": [
    {
     "data": {
      "text/plain": [
       "(1725, 744)"
      ]
     },
     "execution_count": 76,
     "metadata": {},
     "output_type": "execute_result"
    }
   ],
   "source": [
    "test_y.shape"
   ]
  },
  {
   "cell_type": "code",
   "execution_count": 78,
   "metadata": {},
   "outputs": [],
   "source": [
    "train_x = train_x.astype(np.float64)\n",
    "train_y = train_y.astype(np.float64)\n",
    "test_x = test_x.astype(np.float64)\n",
    "test_y = test_y.astype(np.float64)"
   ]
  },
  {
   "cell_type": "code",
   "execution_count": 96,
   "metadata": {},
   "outputs": [
    {
     "data": {
      "text/plain": [
       "<matplotlib.legend.Legend at 0x15ea42d4710>"
      ]
     },
     "execution_count": 96,
     "metadata": {},
     "output_type": "execute_result"
    },
    {
     "data": {
      "image/png": "[encoded data removed]",
      "text/plain": [
       "<Figure size 432x288 with 1 Axes>"
      ]
     },
     "metadata": {
      "needs_background": "light"
     },
     "output_type": "display_data"
    }
   ],
   "source": [
    "history = history.history\n",
    "history = pd.DataFrame(history)\n",
    "plt.plot(history['loss'])\n",
    "plt.plot(history['val_loss'])\n",
    "plt.legend(['loss','val_loss'])"
   ]
  },
  {
   "cell_type": "code",
   "execution_count": 97,
   "metadata": {},
   "outputs": [],
   "source": [
    "test_prediction = CNN.predict({'input': test_x})"
   ]
  },
  {
   "cell_type": "code",
   "execution_count": 83,
   "metadata": {},
   "outputs": [
    {
     "data": {
      "text/plain": [
       "(1725, 744)"
      ]
     },
     "execution_count": 83,
     "metadata": {},
     "output_type": "execute_result"
    }
   ],
   "source": [
    "test_prediction.shape"
   ]
  },
  {
   "cell_type": "code",
   "execution_count": 84,
   "metadata": {},
   "outputs": [],
   "source": [
    "from sklearn.metrics import mean_squared_error"
   ]
  },
  {
   "cell_type": "code",
   "execution_count": 98,
   "metadata": {},
   "outputs": [
    {
     "data": {
      "text/plain": [
       "347.224365338252"
      ]
     },
     "execution_count": 98,
     "metadata": {},
     "output_type": "execute_result"
    }
   ],
   "source": [
    "mean_squared_error(test_prediction, test_y)"
   ]
  },
  {
   "cell_type": "code",
   "execution_count": 93,
   "metadata": {},
   "outputs": [],
   "source": [
    "test_prediction1 = pd.DataFrame(test_prediction)"
   ]
  },
  {
   "cell_type": "code",
   "execution_count": 99,
   "metadata": {},
   "outputs": [
    {
     "data": {
      "text/html": [
       "<div>\n",
       "<style scoped>\n",
       "    .dataframe tbody tr th:only-of-type {\n",
       "        vertical-align: middle;\n",
       "    }\n",
       "\n",
       "    .dataframe tbody tr th {\n",
       "        vertical-align: top;\n",
       "    }\n",
       "\n",
       "    .dataframe thead th {\n",
       "        text-align: right;\n",
       "    }\n",
       "</style>\n",
       "<table border=\"1\" class=\"dataframe\">\n",
       "  <thead>\n",
       "    <tr style=\"text-align: right;\">\n",
       "      <th></th>\n",
       "      <th>0</th>\n",
       "      <th>1</th>\n",
       "      <th>2</th>\n",
       "      <th>3</th>\n",
       "      <th>4</th>\n",
       "      <th>5</th>\n",
       "      <th>6</th>\n",
       "      <th>7</th>\n",
       "      <th>8</th>\n",
       "      <th>9</th>\n",
       "      <th>...</th>\n",
       "      <th>734</th>\n",
       "      <th>735</th>\n",
       "      <th>736</th>\n",
       "      <th>737</th>\n",
       "      <th>738</th>\n",
       "      <th>739</th>\n",
       "      <th>740</th>\n",
       "      <th>741</th>\n",
       "      <th>742</th>\n",
       "      <th>743</th>\n",
       "    </tr>\n",
       "  </thead>\n",
       "  <tbody>\n",
       "    <tr>\n",
       "      <th>0</th>\n",
       "      <td>28.316927</td>\n",
       "      <td>21.012146</td>\n",
       "      <td>19.754667</td>\n",
       "      <td>17.198250</td>\n",
       "      <td>24.264423</td>\n",
       "      <td>21.180368</td>\n",
       "      <td>22.323328</td>\n",
       "      <td>35.714836</td>\n",
       "      <td>13.796480</td>\n",
       "      <td>35.747154</td>\n",
       "      <td>...</td>\n",
       "      <td>-17.668936</td>\n",
       "      <td>13.615590</td>\n",
       "      <td>5.737706</td>\n",
       "      <td>-2.655191</td>\n",
       "      <td>0.466867</td>\n",
       "      <td>-4.501243</td>\n",
       "      <td>5.982653</td>\n",
       "      <td>9.207959</td>\n",
       "      <td>18.769253</td>\n",
       "      <td>28.634827</td>\n",
       "    </tr>\n",
       "    <tr>\n",
       "      <th>1</th>\n",
       "      <td>19.302160</td>\n",
       "      <td>17.098875</td>\n",
       "      <td>19.149429</td>\n",
       "      <td>21.718575</td>\n",
       "      <td>22.643908</td>\n",
       "      <td>36.966469</td>\n",
       "      <td>17.024887</td>\n",
       "      <td>32.113537</td>\n",
       "      <td>11.530315</td>\n",
       "      <td>22.928133</td>\n",
       "      <td>...</td>\n",
       "      <td>9.177156</td>\n",
       "      <td>16.029381</td>\n",
       "      <td>12.702565</td>\n",
       "      <td>-2.527823</td>\n",
       "      <td>9.194366</td>\n",
       "      <td>1.588963</td>\n",
       "      <td>-0.942967</td>\n",
       "      <td>10.141896</td>\n",
       "      <td>11.525313</td>\n",
       "      <td>28.111664</td>\n",
       "    </tr>\n",
       "    <tr>\n",
       "      <th>2</th>\n",
       "      <td>14.972056</td>\n",
       "      <td>16.671801</td>\n",
       "      <td>22.951397</td>\n",
       "      <td>24.922640</td>\n",
       "      <td>12.284757</td>\n",
       "      <td>23.017931</td>\n",
       "      <td>26.094542</td>\n",
       "      <td>27.813240</td>\n",
       "      <td>27.484510</td>\n",
       "      <td>33.787682</td>\n",
       "      <td>...</td>\n",
       "      <td>15.452631</td>\n",
       "      <td>13.502157</td>\n",
       "      <td>10.208744</td>\n",
       "      <td>-3.024694</td>\n",
       "      <td>-1.757519</td>\n",
       "      <td>0.449025</td>\n",
       "      <td>-4.736410</td>\n",
       "      <td>3.674521</td>\n",
       "      <td>9.249746</td>\n",
       "      <td>10.073648</td>\n",
       "    </tr>\n",
       "    <tr>\n",
       "      <th>3</th>\n",
       "      <td>26.247459</td>\n",
       "      <td>15.944986</td>\n",
       "      <td>19.800570</td>\n",
       "      <td>21.276085</td>\n",
       "      <td>12.244187</td>\n",
       "      <td>7.060452</td>\n",
       "      <td>18.466654</td>\n",
       "      <td>17.589903</td>\n",
       "      <td>18.334858</td>\n",
       "      <td>39.630707</td>\n",
       "      <td>...</td>\n",
       "      <td>12.422061</td>\n",
       "      <td>1.828878</td>\n",
       "      <td>2.222298</td>\n",
       "      <td>7.467123</td>\n",
       "      <td>-3.500143</td>\n",
       "      <td>10.542566</td>\n",
       "      <td>3.358506</td>\n",
       "      <td>-1.420383</td>\n",
       "      <td>18.285227</td>\n",
       "      <td>8.840248</td>\n",
       "    </tr>\n",
       "    <tr>\n",
       "      <th>4</th>\n",
       "      <td>32.821140</td>\n",
       "      <td>27.385029</td>\n",
       "      <td>34.190224</td>\n",
       "      <td>22.683897</td>\n",
       "      <td>18.660040</td>\n",
       "      <td>12.613754</td>\n",
       "      <td>26.015911</td>\n",
       "      <td>25.951458</td>\n",
       "      <td>-1.988286</td>\n",
       "      <td>15.532472</td>\n",
       "      <td>...</td>\n",
       "      <td>26.647161</td>\n",
       "      <td>-3.256730</td>\n",
       "      <td>3.885477</td>\n",
       "      <td>4.016288</td>\n",
       "      <td>8.884638</td>\n",
       "      <td>9.193322</td>\n",
       "      <td>7.820652</td>\n",
       "      <td>-10.195148</td>\n",
       "      <td>31.194441</td>\n",
       "      <td>15.569656</td>\n",
       "    </tr>\n",
       "  </tbody>\n",
       "</table>\n",
       "<p>5 rows × 744 columns</p>\n",
       "</div>"
      ],
      "text/plain": [
       "         0          1          2          3          4          5    \\\n",
       "0  28.316927  21.012146  19.754667  17.198250  24.264423  21.180368   \n",
       "1  19.302160  17.098875  19.149429  21.718575  22.643908  36.966469   \n",
       "2  14.972056  16.671801  22.951397  24.922640  12.284757  23.017931   \n",
       "3  26.247459  15.944986  19.800570  21.276085  12.244187   7.060452   \n",
       "4  32.821140  27.385029  34.190224  22.683897  18.660040  12.613754   \n",
       "\n",
       "         6          7          8          9    ...        734        735  \\\n",
       "0  22.323328  35.714836  13.796480  35.747154  ... -17.668936  13.615590   \n",
       "1  17.024887  32.113537  11.530315  22.928133  ...   9.177156  16.029381   \n",
       "2  26.094542  27.813240  27.484510  33.787682  ...  15.452631  13.502157   \n",
       "3  18.466654  17.589903  18.334858  39.630707  ...  12.422061   1.828878   \n",
       "4  26.015911  25.951458  -1.988286  15.532472  ...  26.647161  -3.256730   \n",
       "\n",
       "         736       737       738        739       740        741        742  \\\n",
       "0   5.737706 -2.655191  0.466867  -4.501243  5.982653   9.207959  18.769253   \n",
       "1  12.702565 -2.527823  9.194366   1.588963 -0.942967  10.141896  11.525313   \n",
       "2  10.208744 -3.024694 -1.757519   0.449025 -4.736410   3.674521   9.249746   \n",
       "3   2.222298  7.467123 -3.500143  10.542566  3.358506  -1.420383  18.285227   \n",
       "4   3.885477  4.016288  8.884638   9.193322  7.820652 -10.195148  31.194441   \n",
       "\n",
       "         743  \n",
       "0  28.634827  \n",
       "1  28.111664  \n",
       "2  10.073648  \n",
       "3   8.840248  \n",
       "4  15.569656  \n",
       "\n",
       "[5 rows x 744 columns]"
      ]
     },
     "execution_count": 99,
     "metadata": {},
     "output_type": "execute_result"
    }
   ],
   "source": [
    "test_prediction1.head()"
   ]
  },
  {
   "cell_type": "code",
   "execution_count": 101,
   "metadata": {},
   "outputs": [
    {
     "name": "stdout",
     "output_type": "stream",
     "text": [
      "Model: \"model_4\"\n",
      "_________________________________________________________________\n",
      "Layer (type)                 Output Shape              Param #   \n",
      "=================================================================\n",
      "input (InputLayer)           [(None, 744, 3, 1)]       0         \n",
      "_________________________________________________________________\n",
      "conv2d_7 (Conv2D)            (None, 742, 1, 64)        640       \n",
      "_________________________________________________________________\n",
      "flatten_3 (Flatten)          (None, 47488)             0         \n",
      "_________________________________________________________________\n",
      "dense_1 (Dense)              (None, 744)               35331816  \n",
      "=================================================================\n",
      "Total params: 35,332,456\n",
      "Trainable params: 35,332,456\n",
      "Non-trainable params: 0\n",
      "_________________________________________________________________\n"
     ]
    }
   ],
   "source": [
    "Input = keras.Input(shape=(744,3,1),name='input')\n",
    "x = layers.Conv2D(filters=64, kernel_size=3,activation='relu')(Input)\n",
    "x = layers.Flatten()(x)\n",
    "x = layers.Dense(744)(x)\n",
    "CNN1 = keras.Model(inputs=Input,outputs=x)\n",
    "CNN1.summary()"
   ]
  },
  {
   "cell_type": "code",
   "execution_count": 103,
   "metadata": {},
   "outputs": [
    {
     "name": "stdout",
     "output_type": "stream",
     "text": [
      "Train on 6907 samples\n",
      "Epoch 1/10\n",
      "6907/6907 [==============================] - 30s 4ms/sample - loss: 4.3542\n",
      "Epoch 2/10\n",
      "6907/6907 [==============================] - 30s 4ms/sample - loss: 4.3005\n",
      "Epoch 3/10\n",
      "6907/6907 [==============================] - 30s 4ms/sample - loss: 4.2641\n",
      "Epoch 4/10\n",
      "6907/6907 [==============================] - 30s 4ms/sample - loss: 4.2120\n",
      "Epoch 5/10\n",
      "6907/6907 [==============================] - 30s 4ms/sample - loss: 4.1868\n",
      "Epoch 6/10\n",
      "6907/6907 [==============================] - 30s 4ms/sample - loss: 4.1431\n",
      "Epoch 7/10\n",
      "6907/6907 [==============================] - 30s 4ms/sample - loss: 4.0998\n",
      "Epoch 8/10\n",
      "6907/6907 [==============================] - 30s 4ms/sample - loss: 4.0733\n",
      "Epoch 9/10\n",
      "6907/6907 [==============================] - 31s 4ms/sample - loss: 4.0312\n",
      "Epoch 10/10\n",
      "6907/6907 [==============================] - 30s 4ms/sample - loss: 4.0082\n"
     ]
    }
   ],
   "source": [
    "history = CNN1.fit({'input': train_x},{'dense':train_y},\n",
    "          epochs=10,\n",
    "          batch_size=50\n",
    "          )"
   ]
  },
  {
   "cell_type": "code",
   "execution_count": 104,
   "metadata": {},
   "outputs": [
    {
     "data": {
      "text/plain": [
       "1270.3761506137134"
      ]
     },
     "execution_count": 104,
     "metadata": {},
     "output_type": "execute_result"
    }
   ],
   "source": [
    "test_prediction = CNN1.predict({'input': test_x})\n",
    "mean_squared_error(test_prediction, test_y)"
   ]
  },
  {
   "cell_type": "code",
   "execution_count": 113,
   "metadata": {},
   "outputs": [],
   "source": [
    "train_x, train_y = devide(train, 4, 1)\n",
    "train_x = np.stack(train_x)\n",
    "train_y = np.stack(train_y)\n",
    "train_y = np.squeeze(train_y, axis=2)\n",
    "test_x, test_y = devide(test, 4, 1)\n",
    "test_x = np.stack(test_x)\n",
    "test_y = np.stack(test_y)\n",
    "test_y = np.squeeze(test_y, axis=2)\n",
    "train_x = np.expand_dims(train_x, axis=3)\n",
    "test_x = np.expand_dims(test_x, axis=3)\n",
    "train_x = train_x.astype(np.float64)\n",
    "train_y = train_y.astype(np.float64)\n",
    "test_x = test_x.astype(np.float64)\n",
    "test_y = test_y.astype(np.float64)"
   ]
  },
  {
   "cell_type": "code",
   "execution_count": 106,
   "metadata": {},
   "outputs": [
    {
     "name": "stdout",
     "output_type": "stream",
     "text": [
      "Model: \"model_5\"\n",
      "_________________________________________________________________\n",
      "Layer (type)                 Output Shape              Param #   \n",
      "=================================================================\n",
      "input (InputLayer)           [(None, 744, 4, 1)]       0         \n",
      "_________________________________________________________________\n",
      "conv2d_8 (Conv2D)            (None, 742, 2, 64)        640       \n",
      "_________________________________________________________________\n",
      "max_pooling2d_5 (MaxPooling2 (None, 371, 1, 64)        0         \n",
      "_________________________________________________________________\n",
      "flatten_4 (Flatten)          (None, 23744)             0         \n",
      "_________________________________________________________________\n",
      "dense_2 (Dense)              (None, 744)               17666280  \n",
      "=================================================================\n",
      "Total params: 17,666,920\n",
      "Trainable params: 17,666,920\n",
      "Non-trainable params: 0\n",
      "_________________________________________________________________\n"
     ]
    }
   ],
   "source": [
    "Input = keras.Input(shape=(744,4,1),name='input')\n",
    "x = layers.Conv2D(filters=64, kernel_size=3,activation='relu')(Input)\n",
    "x = layers.MaxPool2D(pool_size=2)(x)\n",
    "x = layers.Flatten()(x)\n",
    "x = layers.Dense(744)(x)\n",
    "CNN2 = keras.Model(inputs=Input,outputs=x)\n",
    "CNN2.summary()"
   ]
  },
  {
   "cell_type": "code",
   "execution_count": 111,
   "metadata": {},
   "outputs": [
    {
     "name": "stdout",
     "output_type": "stream",
     "text": [
      "Train on 6906 samples\n",
      "Epoch 1/10\n",
      "6906/6906 [==============================] - 34s 5ms/sample - loss: 11.8776\n",
      "Epoch 2/10\n",
      "6906/6906 [==============================] - 34s 5ms/sample - loss: 10.0871\n",
      "Epoch 3/10\n",
      "6906/6906 [==============================] - 34s 5ms/sample - loss: 9.1614\n",
      "Epoch 4/10\n",
      "6906/6906 [==============================] - 34s 5ms/sample - loss: 8.3771\n",
      "Epoch 5/10\n",
      "6906/6906 [==============================] - 34s 5ms/sample - loss: 7.7681\n",
      "Epoch 6/10\n",
      "6906/6906 [==============================] - 34s 5ms/sample - loss: 7.2622\n",
      "Epoch 7/10\n",
      "6906/6906 [==============================] - 34s 5ms/sample - loss: 6.8377\n",
      "Epoch 8/10\n",
      "6906/6906 [==============================] - 34s 5ms/sample - loss: 6.5055\n",
      "Epoch 9/10\n",
      "6906/6906 [==============================] - 33s 5ms/sample - loss: 6.1916\n",
      "Epoch 10/10\n",
      "6906/6906 [==============================] - 34s 5ms/sample - loss: 5.9316\n"
     ]
    }
   ],
   "source": [
    "CNN2.compile(loss='mae',optimizer='adam')\n",
    "history = CNN2.fit({'input': train_x},{'dense_2':train_y},\n",
    "          epochs=10,\n",
    "          batch_size=50\n",
    "          )"
   ]
  },
  {
   "cell_type": "code",
   "execution_count": 114,
   "metadata": {},
   "outputs": [
    {
     "data": {
      "text/plain": [
       "245.86232735413037"
      ]
     },
     "execution_count": 114,
     "metadata": {},
     "output_type": "execute_result"
    }
   ],
   "source": [
    "test_prediction = CNN2.predict({'input': test_x})\n",
    "mean_squared_error(test_prediction, test_y)"
   ]
  },
  {
   "cell_type": "code",
   "execution_count": 115,
   "metadata": {},
   "outputs": [],
   "source": [
    "test_prediction1 = pd.DataFrame(test_prediction)"
   ]
  },
  {
   "cell_type": "code",
   "execution_count": 116,
   "metadata": {},
   "outputs": [
    {
     "data": {
      "text/html": [
       "<div>\n",
       "<style scoped>\n",
       "    .dataframe tbody tr th:only-of-type {\n",
       "        vertical-align: middle;\n",
       "    }\n",
       "\n",
       "    .dataframe tbody tr th {\n",
       "        vertical-align: top;\n",
       "    }\n",
       "\n",
       "    .dataframe thead th {\n",
       "        text-align: right;\n",
       "    }\n",
       "</style>\n",
       "<table border=\"1\" class=\"dataframe\">\n",
       "  <thead>\n",
       "    <tr style=\"text-align: right;\">\n",
       "      <th></th>\n",
       "      <th>0</th>\n",
       "      <th>1</th>\n",
       "      <th>2</th>\n",
       "      <th>3</th>\n",
       "      <th>4</th>\n",
       "      <th>5</th>\n",
       "      <th>6</th>\n",
       "      <th>7</th>\n",
       "      <th>8</th>\n",
       "      <th>9</th>\n",
       "      <th>...</th>\n",
       "      <th>734</th>\n",
       "      <th>735</th>\n",
       "      <th>736</th>\n",
       "      <th>737</th>\n",
       "      <th>738</th>\n",
       "      <th>739</th>\n",
       "      <th>740</th>\n",
       "      <th>741</th>\n",
       "      <th>742</th>\n",
       "      <th>743</th>\n",
       "    </tr>\n",
       "  </thead>\n",
       "  <tbody>\n",
       "    <tr>\n",
       "      <th>0</th>\n",
       "      <td>8.448076</td>\n",
       "      <td>22.992346</td>\n",
       "      <td>28.237047</td>\n",
       "      <td>27.449364</td>\n",
       "      <td>29.056484</td>\n",
       "      <td>23.257124</td>\n",
       "      <td>16.725344</td>\n",
       "      <td>17.357214</td>\n",
       "      <td>27.124140</td>\n",
       "      <td>14.686749</td>\n",
       "      <td>...</td>\n",
       "      <td>15.693969</td>\n",
       "      <td>6.900554</td>\n",
       "      <td>1.939760</td>\n",
       "      <td>5.477644</td>\n",
       "      <td>-6.786348</td>\n",
       "      <td>-0.437579</td>\n",
       "      <td>-0.062568</td>\n",
       "      <td>9.784688</td>\n",
       "      <td>13.691705</td>\n",
       "      <td>5.346444</td>\n",
       "    </tr>\n",
       "    <tr>\n",
       "      <th>1</th>\n",
       "      <td>13.698225</td>\n",
       "      <td>10.014153</td>\n",
       "      <td>27.684303</td>\n",
       "      <td>26.472609</td>\n",
       "      <td>19.716324</td>\n",
       "      <td>30.233715</td>\n",
       "      <td>23.185259</td>\n",
       "      <td>13.010301</td>\n",
       "      <td>17.682673</td>\n",
       "      <td>15.697731</td>\n",
       "      <td>...</td>\n",
       "      <td>14.008070</td>\n",
       "      <td>14.533153</td>\n",
       "      <td>6.505583</td>\n",
       "      <td>-2.438421</td>\n",
       "      <td>-7.927782</td>\n",
       "      <td>5.134017</td>\n",
       "      <td>0.251345</td>\n",
       "      <td>9.777081</td>\n",
       "      <td>15.814737</td>\n",
       "      <td>6.285497</td>\n",
       "    </tr>\n",
       "    <tr>\n",
       "      <th>2</th>\n",
       "      <td>13.163206</td>\n",
       "      <td>13.120774</td>\n",
       "      <td>18.147137</td>\n",
       "      <td>23.727587</td>\n",
       "      <td>18.321442</td>\n",
       "      <td>24.094139</td>\n",
       "      <td>23.968357</td>\n",
       "      <td>12.527039</td>\n",
       "      <td>7.656179</td>\n",
       "      <td>21.507645</td>\n",
       "      <td>...</td>\n",
       "      <td>10.137481</td>\n",
       "      <td>16.119812</td>\n",
       "      <td>12.609021</td>\n",
       "      <td>3.296775</td>\n",
       "      <td>5.079189</td>\n",
       "      <td>2.480946</td>\n",
       "      <td>0.416164</td>\n",
       "      <td>6.257278</td>\n",
       "      <td>18.685894</td>\n",
       "      <td>4.692651</td>\n",
       "    </tr>\n",
       "    <tr>\n",
       "      <th>3</th>\n",
       "      <td>22.980007</td>\n",
       "      <td>25.967567</td>\n",
       "      <td>27.049452</td>\n",
       "      <td>30.906719</td>\n",
       "      <td>28.096130</td>\n",
       "      <td>23.651903</td>\n",
       "      <td>26.101273</td>\n",
       "      <td>20.160244</td>\n",
       "      <td>13.159525</td>\n",
       "      <td>24.109848</td>\n",
       "      <td>...</td>\n",
       "      <td>14.237772</td>\n",
       "      <td>18.168900</td>\n",
       "      <td>19.752251</td>\n",
       "      <td>5.308387</td>\n",
       "      <td>4.153247</td>\n",
       "      <td>3.074932</td>\n",
       "      <td>2.625649</td>\n",
       "      <td>2.179210</td>\n",
       "      <td>20.060402</td>\n",
       "      <td>3.246668</td>\n",
       "    </tr>\n",
       "    <tr>\n",
       "      <th>4</th>\n",
       "      <td>23.632215</td>\n",
       "      <td>29.662855</td>\n",
       "      <td>28.723618</td>\n",
       "      <td>28.062000</td>\n",
       "      <td>29.204372</td>\n",
       "      <td>32.642788</td>\n",
       "      <td>21.489357</td>\n",
       "      <td>23.098352</td>\n",
       "      <td>28.526649</td>\n",
       "      <td>31.177511</td>\n",
       "      <td>...</td>\n",
       "      <td>20.130720</td>\n",
       "      <td>19.035767</td>\n",
       "      <td>12.579501</td>\n",
       "      <td>9.948727</td>\n",
       "      <td>3.638220</td>\n",
       "      <td>8.543918</td>\n",
       "      <td>6.491786</td>\n",
       "      <td>7.382525</td>\n",
       "      <td>22.320139</td>\n",
       "      <td>4.718433</td>\n",
       "    </tr>\n",
       "  </tbody>\n",
       "</table>\n",
       "<p>5 rows × 744 columns</p>\n",
       "</div>"
      ],
      "text/plain": [
       "         0          1          2          3          4          5    \\\n",
       "0   8.448076  22.992346  28.237047  27.449364  29.056484  23.257124   \n",
       "1  13.698225  10.014153  27.684303  26.472609  19.716324  30.233715   \n",
       "2  13.163206  13.120774  18.147137  23.727587  18.321442  24.094139   \n",
       "3  22.980007  25.967567  27.049452  30.906719  28.096130  23.651903   \n",
       "4  23.632215  29.662855  28.723618  28.062000  29.204372  32.642788   \n",
       "\n",
       "         6          7          8          9    ...        734        735  \\\n",
       "0  16.725344  17.357214  27.124140  14.686749  ...  15.693969   6.900554   \n",
       "1  23.185259  13.010301  17.682673  15.697731  ...  14.008070  14.533153   \n",
       "2  23.968357  12.527039   7.656179  21.507645  ...  10.137481  16.119812   \n",
       "3  26.101273  20.160244  13.159525  24.109848  ...  14.237772  18.168900   \n",
       "4  21.489357  23.098352  28.526649  31.177511  ...  20.130720  19.035767   \n",
       "\n",
       "         736       737       738       739       740       741        742  \\\n",
       "0   1.939760  5.477644 -6.786348 -0.437579 -0.062568  9.784688  13.691705   \n",
       "1   6.505583 -2.438421 -7.927782  5.134017  0.251345  9.777081  15.814737   \n",
       "2  12.609021  3.296775  5.079189  2.480946  0.416164  6.257278  18.685894   \n",
       "3  19.752251  5.308387  4.153247  3.074932  2.625649  2.179210  20.060402   \n",
       "4  12.579501  9.948727  3.638220  8.543918  6.491786  7.382525  22.320139   \n",
       "\n",
       "        743  \n",
       "0  5.346444  \n",
       "1  6.285497  \n",
       "2  4.692651  \n",
       "3  3.246668  \n",
       "4  4.718433  \n",
       "\n",
       "[5 rows x 744 columns]"
      ]
     },
     "execution_count": 116,
     "metadata": {},
     "output_type": "execute_result"
    }
   ],
   "source": [
    "test_prediction1.head()"
   ]
  },
  {
   "cell_type": "code",
   "execution_count": 117,
   "metadata": {},
   "outputs": [],
   "source": [
    "train_x, train_y = devide(train, 5, 1)\n",
    "train_x = np.stack(train_x)\n",
    "train_y = np.stack(train_y)\n",
    "train_y = np.squeeze(train_y, axis=2)\n",
    "test_x, test_y = devide(test, 5, 1)\n",
    "test_x = np.stack(test_x)\n",
    "test_y = np.stack(test_y)\n",
    "test_y = np.squeeze(test_y, axis=2)\n",
    "train_x = np.expand_dims(train_x, axis=3)\n",
    "test_x = np.expand_dims(test_x, axis=3)\n",
    "train_x = train_x.astype(np.float64)\n",
    "train_y = train_y.astype(np.float64)\n",
    "test_x = test_x.astype(np.float64)\n",
    "test_y = test_y.astype(np.float64)"
   ]
  },
  {
   "cell_type": "code",
   "execution_count": 118,
   "metadata": {},
   "outputs": [
    {
     "name": "stdout",
     "output_type": "stream",
     "text": [
      "Model: \"model_6\"\n",
      "_________________________________________________________________\n",
      "Layer (type)                 Output Shape              Param #   \n",
      "=================================================================\n",
      "input (InputLayer)           [(None, 744, 5, 1)]       0         \n",
      "_________________________________________________________________\n",
      "conv2d_9 (Conv2D)            (None, 742, 3, 64)        640       \n",
      "_________________________________________________________________\n",
      "max_pooling2d_6 (MaxPooling2 (None, 371, 1, 64)        0         \n",
      "_________________________________________________________________\n",
      "flatten_5 (Flatten)          (None, 23744)             0         \n",
      "_________________________________________________________________\n",
      "dense_3 (Dense)              (None, 744)               17666280  \n",
      "=================================================================\n",
      "Total params: 17,666,920\n",
      "Trainable params: 17,666,920\n",
      "Non-trainable params: 0\n",
      "_________________________________________________________________\n"
     ]
    }
   ],
   "source": [
    "Input = keras.Input(shape=(744,5,1),name='input')\n",
    "x = layers.Conv2D(filters=64, kernel_size=3,activation='relu')(Input)\n",
    "x = layers.MaxPool2D(pool_size=2)(x)\n",
    "x = layers.Flatten()(x)\n",
    "x = layers.Dense(744)(x)\n",
    "CNN3 = keras.Model(inputs=Input,outputs=x)\n",
    "CNN3.summary()"
   ]
  },
  {
   "cell_type": "code",
   "execution_count": 119,
   "metadata": {},
   "outputs": [
    {
     "name": "stdout",
     "output_type": "stream",
     "text": [
      "Train on 6905 samples\n",
      "Epoch 1/10\n",
      "6905/6905 [==============================] - 37s 5ms/sample - loss: 13.1564\n",
      "Epoch 2/10\n",
      "6905/6905 [==============================] - 37s 5ms/sample - loss: 10.4130\n",
      "Epoch 3/10\n",
      "6905/6905 [==============================] - 37s 5ms/sample - loss: 9.5300\n",
      "Epoch 4/10\n",
      "6905/6905 [==============================] - 36s 5ms/sample - loss: 8.7311\n",
      "Epoch 5/10\n",
      "6905/6905 [==============================] - 37s 5ms/sample - loss: 8.0980\n",
      "Epoch 6/10\n",
      "6905/6905 [==============================] - 37s 5ms/sample - loss: 7.5769\n",
      "Epoch 7/10\n",
      "6905/6905 [==============================] - 36s 5ms/sample - loss: 7.1470\n",
      "Epoch 8/10\n",
      "6905/6905 [==============================] - 36s 5ms/sample - loss: 6.7672\n",
      "Epoch 9/10\n",
      "6905/6905 [==============================] - 36s 5ms/sample - loss: 6.4770\n",
      "Epoch 10/10\n",
      "6905/6905 [==============================] - 36s 5ms/sample - loss: 6.2183\n"
     ]
    }
   ],
   "source": [
    "CNN3.compile(loss='mae',optimizer='adam')\n",
    "history = CNN3.fit({'input': train_x},{'dense_3':train_y},\n",
    "          epochs=10,\n",
    "          batch_size=50\n",
    "          )"
   ]
  },
  {
   "cell_type": "code",
   "execution_count": 120,
   "metadata": {},
   "outputs": [
    {
     "data": {
      "text/plain": [
       "252.57971154449405"
      ]
     },
     "execution_count": 120,
     "metadata": {},
     "output_type": "execute_result"
    }
   ],
   "source": [
    "test_prediction = CNN3.predict({'input': test_x})\n",
    "mean_squared_error(test_prediction, test_y)"
   ]
  },
  {
   "cell_type": "code",
   "execution_count": 121,
   "metadata": {},
   "outputs": [],
   "source": [
    "train_x, train_y = devide(train, 6, 1)\n",
    "train_x = np.stack(train_x)\n",
    "train_y = np.stack(train_y)\n",
    "train_y = np.squeeze(train_y, axis=2)\n",
    "test_x, test_y = devide(test, 6, 1)\n",
    "test_x = np.stack(test_x)\n",
    "test_y = np.stack(test_y)\n",
    "test_y = np.squeeze(test_y, axis=2)\n",
    "train_x = np.expand_dims(train_x, axis=3)\n",
    "test_x = np.expand_dims(test_x, axis=3)\n",
    "train_x = train_x.astype(np.float64)\n",
    "train_y = train_y.astype(np.float64)\n",
    "test_x = test_x.astype(np.float64)\n",
    "test_y = test_y.astype(np.float64)"
   ]
  },
  {
   "cell_type": "code",
   "execution_count": 122,
   "metadata": {},
   "outputs": [
    {
     "name": "stdout",
     "output_type": "stream",
     "text": [
      "Model: \"model_7\"\n",
      "_________________________________________________________________\n",
      "Layer (type)                 Output Shape              Param #   \n",
      "=================================================================\n",
      "input (InputLayer)           [(None, 744, 6, 1)]       0         \n",
      "_________________________________________________________________\n",
      "conv2d_10 (Conv2D)           (None, 742, 4, 64)        640       \n",
      "_________________________________________________________________\n",
      "max_pooling2d_7 (MaxPooling2 (None, 371, 2, 64)        0         \n",
      "_________________________________________________________________\n",
      "flatten_6 (Flatten)          (None, 47488)             0         \n",
      "_________________________________________________________________\n",
      "dense_4 (Dense)              (None, 744)               35331816  \n",
      "=================================================================\n",
      "Total params: 35,332,456\n",
      "Trainable params: 35,332,456\n",
      "Non-trainable params: 0\n",
      "_________________________________________________________________\n"
     ]
    }
   ],
   "source": [
    "Input = keras.Input(shape=(744,6,1),name='input')\n",
    "x = layers.Conv2D(filters=64, kernel_size=3,activation='relu')(Input)\n",
    "x = layers.MaxPool2D(pool_size=2)(x)\n",
    "x = layers.Flatten()(x)\n",
    "x = layers.Dense(744)(x)\n",
    "CNN4 = keras.Model(inputs=Input,outputs=x)\n",
    "CNN4.summary()"
   ]
  },
  {
   "cell_type": "code",
   "execution_count": 123,
   "metadata": {},
   "outputs": [
    {
     "name": "stdout",
     "output_type": "stream",
     "text": [
      "Train on 6904 samples\n",
      "Epoch 1/10\n",
      "6904/6904 [==============================] - 51s 7ms/sample - loss: 16.8550\n",
      "Epoch 2/10\n",
      "6904/6904 [==============================] - 48s 7ms/sample - loss: 10.3087\n",
      "Epoch 3/10\n",
      "6904/6904 [==============================] - 48s 7ms/sample - loss: 9.1808\n",
      "Epoch 4/10\n",
      "6904/6904 [==============================] - 48s 7ms/sample - loss: 8.1889\n",
      "Epoch 5/10\n",
      "6904/6904 [==============================] - 48s 7ms/sample - loss: 7.4389\n",
      "Epoch 6/10\n",
      "6904/6904 [==============================] - 48s 7ms/sample - loss: 6.9032\n",
      "Epoch 7/10\n",
      "6904/6904 [==============================] - 48s 7ms/sample - loss: 6.4595\n",
      "Epoch 8/10\n",
      "6904/6904 [==============================] - 48s 7ms/sample - loss: 6.0876\n",
      "Epoch 9/10\n",
      "6904/6904 [==============================] - 47s 7ms/sample - loss: 5.8083\n",
      "Epoch 10/10\n",
      "6904/6904 [==============================] - 47s 7ms/sample - loss: 5.5665\n"
     ]
    }
   ],
   "source": [
    "CNN4.compile(loss='mae',optimizer='adam')\n",
    "history = CNN4.fit({'input': train_x},{'dense_4':train_y},\n",
    "          epochs=10,\n",
    "          batch_size=50\n",
    "          )"
   ]
  },
  {
   "cell_type": "code",
   "execution_count": 124,
   "metadata": {},
   "outputs": [
    {
     "data": {
      "text/plain": [
       "238.063896473829"
      ]
     },
     "execution_count": 124,
     "metadata": {},
     "output_type": "execute_result"
    }
   ],
   "source": [
    "test_prediction = CNN4.predict({'input': test_x})\n",
    "mean_squared_error(test_prediction, test_y)"
   ]
  },
  {
   "cell_type": "code",
   "execution_count": 125,
   "metadata": {},
   "outputs": [],
   "source": [
    "train_x, train_y = devide(train, 7, 1)\n",
    "train_x = np.stack(train_x)\n",
    "train_y = np.stack(train_y)\n",
    "train_y = np.squeeze(train_y, axis=2)\n",
    "test_x, test_y = devide(test, 7, 1)\n",
    "test_x = np.stack(test_x)\n",
    "test_y = np.stack(test_y)\n",
    "test_y = np.squeeze(test_y, axis=2)\n",
    "train_x = np.expand_dims(train_x, axis=3)\n",
    "test_x = np.expand_dims(test_x, axis=3)\n",
    "train_x = train_x.astype(np.float64)\n",
    "train_y = train_y.astype(np.float64)\n",
    "test_x = test_x.astype(np.float64)\n",
    "test_y = test_y.astype(np.float64)"
   ]
  },
  {
   "cell_type": "code",
   "execution_count": 126,
   "metadata": {},
   "outputs": [
    {
     "name": "stdout",
     "output_type": "stream",
     "text": [
      "Model: \"model_8\"\n",
      "_________________________________________________________________\n",
      "Layer (type)                 Output Shape              Param #   \n",
      "=================================================================\n",
      "input (InputLayer)           [(None, 744, 7, 1)]       0         \n",
      "_________________________________________________________________\n",
      "conv2d_11 (Conv2D)           (None, 742, 5, 64)        640       \n",
      "_________________________________________________________________\n",
      "max_pooling2d_8 (MaxPooling2 (None, 371, 2, 64)        0         \n",
      "_________________________________________________________________\n",
      "flatten_7 (Flatten)          (None, 47488)             0         \n",
      "_________________________________________________________________\n",
      "dense_5 (Dense)              (None, 744)               35331816  \n",
      "=================================================================\n",
      "Total params: 35,332,456\n",
      "Trainable params: 35,332,456\n",
      "Non-trainable params: 0\n",
      "_________________________________________________________________\n"
     ]
    }
   ],
   "source": [
    "Input = keras.Input(shape=(744,7,1),name='input')\n",
    "x = layers.Conv2D(filters=64, kernel_size=3,activation='relu')(Input)\n",
    "x = layers.MaxPool2D(pool_size=2)(x)\n",
    "x = layers.Flatten()(x)\n",
    "x = layers.Dense(744)(x)\n",
    "CNN5 = keras.Model(inputs=Input,outputs=x)\n",
    "CNN5.summary()"
   ]
  },
  {
   "cell_type": "code",
   "execution_count": 127,
   "metadata": {},
   "outputs": [
    {
     "name": "stdout",
     "output_type": "stream",
     "text": [
      "Train on 6903 samples\n",
      "Epoch 1/10\n",
      "6903/6903 [==============================] - 51s 7ms/sample - loss: 16.4875\n",
      "Epoch 2/10\n",
      "6903/6903 [==============================] - 50s 7ms/sample - loss: 10.4026\n",
      "Epoch 3/10\n",
      "6903/6903 [==============================] - 50s 7ms/sample - loss: 9.2619\n",
      "Epoch 4/10\n",
      "6903/6903 [==============================] - 50s 7ms/sample - loss: 8.2911\n",
      "Epoch 5/10\n",
      "6903/6903 [==============================] - 51s 7ms/sample - loss: 7.5453\n",
      "Epoch 6/10\n",
      "6903/6903 [==============================] - 51s 7ms/sample - loss: 6.9801\n",
      "Epoch 7/10\n",
      "6903/6903 [==============================] - 50s 7ms/sample - loss: 6.5503\n",
      "Epoch 8/10\n",
      "6903/6903 [==============================] - ETA: 0s - loss: 6.172 - 51s 7ms/sample - loss: 6.1726\n",
      "Epoch 9/10\n",
      "6903/6903 [==============================] - 51s 7ms/sample - loss: 5.9233\n",
      "Epoch 10/10\n",
      "6903/6903 [==============================] - 52s 8ms/sample - loss: 5.6766\n"
     ]
    }
   ],
   "source": [
    "CNN5.compile(loss='mae',optimizer='adam')\n",
    "history = CNN5.fit({'input': train_x},{'dense_5':train_y},\n",
    "          epochs=10,\n",
    "          batch_size=50\n",
    "          )"
   ]
  },
  {
   "cell_type": "code",
   "execution_count": 128,
   "metadata": {},
   "outputs": [
    {
     "data": {
      "text/plain": [
       "244.9167380946889"
      ]
     },
     "execution_count": 128,
     "metadata": {},
     "output_type": "execute_result"
    }
   ],
   "source": [
    "test_prediction = CNN5.predict({'input': test_x})\n",
    "mean_squared_error(test_prediction, test_y)"
   ]
  },
  {
   "cell_type": "code",
   "execution_count": 129,
   "metadata": {},
   "outputs": [],
   "source": [
    "train_x, train_y = devide(train, 3, 1)\n",
    "train_x = np.stack(train_x)\n",
    "train_y = np.stack(train_y)\n",
    "train_y = np.squeeze(train_y, axis=2)\n",
    "test_x, test_y = devide(test, 3, 1)\n",
    "test_x = np.stack(test_x)\n",
    "test_y = np.stack(test_y)\n",
    "test_y = np.squeeze(test_y, axis=2)\n",
    "train_x = np.expand_dims(train_x, axis=3)\n",
    "test_x = np.expand_dims(test_x, axis=3)\n",
    "train_x = train_x.astype(np.float64)\n",
    "train_y = train_y.astype(np.float64)\n",
    "test_x = test_x.astype(np.float64)\n",
    "test_y = test_y.astype(np.float64)"
   ]
  },
  {
   "cell_type": "code",
   "execution_count": 130,
   "metadata": {},
   "outputs": [
    {
     "name": "stdout",
     "output_type": "stream",
     "text": [
      "Model: \"model_9\"\n",
      "_________________________________________________________________\n",
      "Layer (type)                 Output Shape              Param #   \n",
      "=================================================================\n",
      "input (InputLayer)           [(None, 744, 3, 1)]       0         \n",
      "_________________________________________________________________\n",
      "conv2d_12 (Conv2D)           (None, 742, 1, 64)        640       \n",
      "_________________________________________________________________\n",
      "flatten_8 (Flatten)          (None, 47488)             0         \n",
      "_________________________________________________________________\n",
      "dense_6 (Dense)              (None, 744)               35331816  \n",
      "=================================================================\n",
      "Total params: 35,332,456\n",
      "Trainable params: 35,332,456\n",
      "Non-trainable params: 0\n",
      "_________________________________________________________________\n"
     ]
    }
   ],
   "source": [
    "Input = keras.Input(shape=(744,3,1),name='input')\n",
    "x = layers.Conv2D(filters=64, kernel_size=3,activation='relu')(Input)\n",
    "x = layers.Flatten()(x)\n",
    "x = layers.Dense(744)(x)\n",
    "CNN6 = keras.Model(inputs=Input,outputs=x)\n",
    "CNN6.summary()"
   ]
  },
  {
   "cell_type": "code",
   "execution_count": 131,
   "metadata": {},
   "outputs": [
    {
     "name": "stdout",
     "output_type": "stream",
     "text": [
      "Train on 6907 samples\n",
      "Epoch 1/10\n",
      "6907/6907 [==============================] - 42s 6ms/sample - loss: 12.9038\n",
      "Epoch 2/10\n",
      "6907/6907 [==============================] - ETA: 0s - loss: 9.802 - 41s 6ms/sample - loss: 9.8036\n",
      "Epoch 3/10\n",
      "6907/6907 [==============================] - ETA: 0s - loss: 8.491 - 41s 6ms/sample - loss: 8.4921\n",
      "Epoch 4/10\n",
      "6907/6907 [==============================] - 40s 6ms/sample - loss: 7.3606\n",
      "Epoch 5/10\n",
      "6907/6907 [==============================] - 40s 6ms/sample - loss: 6.4451\n",
      "Epoch 6/10\n",
      "6907/6907 [==============================] - 41s 6ms/sample - loss: 5.7355\n",
      "Epoch 7/10\n",
      "6907/6907 [==============================] - 41s 6ms/sample - loss: 5.1346\n",
      "Epoch 8/10\n",
      "6907/6907 [==============================] - 41s 6ms/sample - loss: 4.6653\n",
      "Epoch 9/10\n",
      "6907/6907 [==============================] - 41s 6ms/sample - loss: 4.2567\n",
      "Epoch 10/10\n",
      "6907/6907 [==============================] - 41s 6ms/sample - loss: 3.9301\n"
     ]
    }
   ],
   "source": [
    "CNN6.compile(loss='mae',optimizer='adam')\n",
    "history = CNN6.fit({'input': train_x},{'dense_6':train_y},\n",
    "          epochs=10,\n",
    "          batch_size=50\n",
    "          )"
   ]
  },
  {
   "cell_type": "code",
   "execution_count": 132,
   "metadata": {},
   "outputs": [
    {
     "data": {
      "text/plain": [
       "253.6323375849695"
      ]
     },
     "execution_count": 132,
     "metadata": {},
     "output_type": "execute_result"
    }
   ],
   "source": [
    "test_prediction = CNN6.predict({'input': test_x})\n",
    "mean_squared_error(test_prediction, test_y)"
   ]
  },
  {
   "cell_type": "code",
   "execution_count": 134,
   "metadata": {},
   "outputs": [
    {
     "data": {
      "text/plain": [
       "([<matplotlib.axis.XTick at 0x15e819df860>,\n",
       "  <matplotlib.axis.XTick at 0x15e819df240>,\n",
       "  <matplotlib.axis.XTick at 0x15e819df438>,\n",
       "  <matplotlib.axis.XTick at 0x15e81962eb8>],\n",
       " <a list of 4 Text xticklabel objects>)"
      ]
     },
     "execution_count": 134,
     "metadata": {},
     "output_type": "execute_result"
    },
    {
     "data": {
      "image/png": "[encoded data removed]",
      "text/plain": [
       "<Figure size 432x288 with 1 Axes>"
      ]
     },
     "metadata": {
      "needs_background": "light"
     },
     "output_type": "display_data"
    }
   ],
   "source": [
    "plt.scatter(x=[3,4,5,6],y=[np.sqrt(253.63),np.sqrt(245.86),np.sqrt(238.06),np.sqrt(244.92)])\n",
    "plt.title('cnn rmse')\n",
    "plt.xlabel('look back')\n",
    "plt.ylabel('rmse')\n",
    "plt.xticks(np.linspace(3,6,4))"
   ]
  },
  {
   "cell_type": "code",
   "execution_count": null,
   "metadata": {},
   "outputs": [],
   "source": []
  }
 ],
 "metadata": {
  "kernelspec": {
   "display_name": "Python 3",
   "language": "python",
   "name": "python3"
  },
  "language_info": {
   "codemirror_mode": {
    "name": "ipython",
    "version": 3
   },
   "file_extension": ".py",
   "mimetype": "text/x-python",
   "name": "python",
   "nbconvert_exporter": "python",
   "pygments_lexer": "ipython3",
   "version": "3.7.3"
  }
 },
 "nbformat": 4,
 "nbformat_minor": 2
}
