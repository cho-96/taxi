{
 "cells": [
  {
   "cell_type": "code",
   "execution_count": 20,
   "metadata": {},
   "outputs": [],
   "source": [
    "%matplotlib inline\n",
    "import os\n",
    "import numpy as np\n",
    "import math \n",
    "import matplotlib.pyplot as plt\n",
    "import scipy\n",
    "from sklearn.metrics import mean_squared_error "
   ]
  },
  {
   "cell_type": "code",
   "execution_count": 4,
   "metadata": {},
   "outputs": [],
   "source": [
    "target_date_files = os.listdir('20180417')\n",
    "TARGET_DATE_LIST=[]\n",
    "for DATE in range(1,31):\n",
    "    TARGET_DATE_LIST.append('201804' + str(DATE).zfill(2))\n",
    "taxi_hitmap_history=[]\n",
    "for i in range(30):\n",
    "    cur_date_dir = TARGET_DATE_LIST[i]\n",
    "    hitmaps_path = os.listdir(cur_date_dir)\n",
    "    num_hitmaps = len(hitmaps_path)\n",
    "    idx_hitmap = 0\n",
    "    for idx_time in range(len(target_date_files)):\n",
    "        true_measurement_time_name = target_date_files[idx_time]\n",
    "        data_measurement_time_name = hitmaps_path[idx_hitmap]\n",
    "        if(data_measurement_time_name == true_measurement_time_name):\n",
    "            path = os.path.join(cur_date_dir, data_measurement_time_name)\n",
    "            hitmap = np.load(path)\n",
    "            idx_hitmap = idx_hitmap + 1\n",
    "        else:\n",
    "            hitmap = hitmap_bfr\n",
    "        taxi_hitmap_history.append(hitmap)\n",
    "        hitmap_bfr = hitmap\n",
    "taxi_hitmap_history_3d=np.dstack(taxi_hitmap_history)"
   ]
  },
  {
   "cell_type": "code",
   "execution_count": 35,
   "metadata": {},
   "outputs": [],
   "source": [
    "def setup_graph(title='', x_label='', y_label='', fig_size=None):\n",
    "    fig = plt.plot(rmse)\n",
    "    plt.title(title)\n",
    "    plt.xlabel(x_label)\n",
    "    plt.ylabel(y_label)"
   ]
  },
  {
   "cell_type": "code",
   "execution_count": 6,
   "metadata": {},
   "outputs": [],
   "source": [
    "def maxk(num):\n",
    "    max_amp = np.argpartition(amplitude, -num)[-num:]\n",
    "    p = freqs[max_amp]\n",
    "    q = phase[max_amp]\n",
    "    r = amplitude[max_amp]\n",
    "    return p, q, r"
   ]
  },
  {
   "cell_type": "code",
   "execution_count": 11,
   "metadata": {},
   "outputs": [],
   "source": [
    "sampling_freq = 2"
   ]
  },
  {
   "cell_type": "code",
   "execution_count": 15,
   "metadata": {},
   "outputs": [],
   "source": [
    "# 10% , train_days = 7 days\n",
    "rmse = []\n",
    "train_days = 7\n",
    "percent = 0.1"
   ]
  },
  {
   "cell_type": "code",
   "execution_count": 17,
   "metadata": {},
   "outputs": [],
   "source": [
    "num_train_hours = train_days * 24"
   ]
  },
  {
   "cell_type": "code",
   "execution_count": 22,
   "metadata": {},
   "outputs": [],
   "source": [
    "x = np.linspace(0, 720, 1440)\n",
    "for i in range(102):\n",
    "    for j in range(110):\n",
    "        train = taxi_hitmap_history_3d[i,j][:num_train_hours*sampling_freq]\n",
    "        test = taxi_hitmap_history_3d[i,j][num_train_hours*sampling_freq:]\n",
    "        fft_target_loc_history = np.fft.fft(train)\n",
    "        sig_len = len(fft_target_loc_history)\n",
    "        phase = [math.atan2(i.imag, i.real) for i in fft_target_loc_history]\n",
    "        amplitude = np.abs(fft_target_loc_history/sig_len)\n",
    "        amplitude = amplitude[:math.floor(sig_len/2)+1]\n",
    "        amplitude[1:-1] = 2*amplitude[1:-1]\n",
    "        freqs = [(sampling_freq*i/sig_len) for i in range(sig_len//2+1)]\n",
    "        freqs = np.array(freqs)\n",
    "        amplitude = np.array(amplitude)\n",
    "        phase = np.array(phase)\n",
    "        p, q, r = maxk(math.floor(percent*sig_len))\n",
    "        pred1=[]\n",
    "        for u in range(num_train_hours*sampling_freq,1440):\n",
    "            pred=0\n",
    "            for v in range(len(p)):\n",
    "                a = p[v]\n",
    "                b = q[v]\n",
    "                c = r[v]\n",
    "                pred = pred + c * math.cos(2*math.pi*a*x[u] + b)\n",
    "            pred1.append(pred)\n",
    "        rmse.append(np.sqrt(mean_squared_error(pred1, test)))"
   ]
  },
  {
   "cell_type": "code",
   "execution_count": 36,
   "metadata": {},
   "outputs": [
    {
     "data": {
      "image/png": "[encoded data removed]",
      "text/plain": [
       "<Figure size 432x288 with 1 Axes>"
      ]
     },
     "metadata": {
      "needs_background": "light"
     },
     "output_type": "display_data"
    }
   ],
   "source": [
    "setup_graph(title='7days training_10%', x_label='each grid cell', y_label='rmse', fig_size=None)"
   ]
  },
  {
   "cell_type": "code",
   "execution_count": null,
   "metadata": {},
   "outputs": [],
   "source": []
  }
 ],
 "metadata": {
  "kernelspec": {
   "display_name": "Python 3",
   "language": "python",
   "name": "python3"
  },
  "language_info": {
   "codemirror_mode": {
    "name": "ipython",
    "version": 3
   },
   "file_extension": ".py",
   "mimetype": "text/x-python",
   "name": "python",
   "nbconvert_exporter": "python",
   "pygments_lexer": "ipython3",
   "version": "3.7.4"
  }
 },
 "nbformat": 4,
 "nbformat_minor": 2
}
